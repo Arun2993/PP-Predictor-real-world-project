{
 "cells": [
  {
   "cell_type": "code",
   "execution_count": 68,
   "id": "2bf0ce98-4c5f-4e41-aa4c-05033bcf76a6",
   "metadata": {},
   "outputs": [
    {
     "name": "stderr",
     "output_type": "stream",
     "text": [
      "[nltk_data] Downloading package stopwords to\n",
      "[nltk_data]     C:\\Users\\Krishi\\AppData\\Roaming\\nltk_data...\n",
      "[nltk_data]   Package stopwords is already up-to-date!\n"
     ]
    }
   ],
   "source": [
    "#Import required libraries\n",
    "import pandas as pd\n",
    "import numpy as np\n",
    "import matplotlib.pyplot as plt\n",
    "import seaborn as sns\n",
    "import warnings\n",
    "warnings.filterwarnings('ignore')\n",
    "\n",
    "import nltk\n",
    "nltk.download('stopwords')\n",
    "from nltk.corpus import stopwords\n",
    "\n",
    "from sklearn.model_selection import train_test_split,cross_val_score,GridSearchCV\n",
    "from sklearn.preprocessing import StandardScaler\n",
    "from sklearn.linear_model import LogisticRegression\n",
    "from imblearn.over_sampling import SMOTE\n",
    "from sklearn.metrics import ConfusionMatrixDisplay,classification_report,accuracy_score,roc_auc_score,roc_curve\n",
    "from sklearn.feature_extraction.text import TfidfVectorizer\n"
   ]
  },
  {
   "cell_type": "code",
   "execution_count": 69,
   "id": "66c46c11-61a7-47ef-b6ef-0ad87651f136",
   "metadata": {},
   "outputs": [
    {
     "data": {
      "text/html": [
       "<div>\n",
       "<style scoped>\n",
       "    .dataframe tbody tr th:only-of-type {\n",
       "        vertical-align: middle;\n",
       "    }\n",
       "\n",
       "    .dataframe tbody tr th {\n",
       "        vertical-align: top;\n",
       "    }\n",
       "\n",
       "    .dataframe thead th {\n",
       "        text-align: right;\n",
       "    }\n",
       "</style>\n",
       "<table border=\"1\" class=\"dataframe\">\n",
       "  <thead>\n",
       "    <tr style=\"text-align: right;\">\n",
       "      <th></th>\n",
       "      <th>PDF</th>\n",
       "      <th>Cyan Count</th>\n",
       "      <th>Magenta Count</th>\n",
       "      <th>Yellow Count</th>\n",
       "      <th>Black Count</th>\n",
       "      <th>Pantone Colors Count</th>\n",
       "      <th>Total Colors Found</th>\n",
       "      <th>White Count</th>\n",
       "      <th>Varnish Count</th>\n",
       "      <th>Digital or Other</th>\n",
       "      <th>Instructions Extracted</th>\n",
       "      <th>Eligible to Bypass PP</th>\n",
       "    </tr>\n",
       "  </thead>\n",
       "  <tbody>\n",
       "    <tr>\n",
       "      <th>0</th>\n",
       "      <td>7302666_SGS Europe Technical Summary_PP.pdf</td>\n",
       "      <td>1</td>\n",
       "      <td>1</td>\n",
       "      <td>1</td>\n",
       "      <td>1</td>\n",
       "      <td>0</td>\n",
       "      <td>5</td>\n",
       "      <td>0</td>\n",
       "      <td>1</td>\n",
       "      <td>1</td>\n",
       "      <td>:\\n- Approved for prepress\\n- Trap per printer...</td>\n",
       "      <td>Yes</td>\n",
       "    </tr>\n",
       "    <tr>\n",
       "      <th>1</th>\n",
       "      <td>7396666__SGS Europe Technical Summary.pdf</td>\n",
       "      <td>1</td>\n",
       "      <td>0</td>\n",
       "      <td>0</td>\n",
       "      <td>0</td>\n",
       "      <td>1</td>\n",
       "      <td>2</td>\n",
       "      <td>0</td>\n",
       "      <td>0</td>\n",
       "      <td>1</td>\n",
       "      <td>:\\n- Below copy was added in production. Pleas...</td>\n",
       "      <td>Yes</td>\n",
       "    </tr>\n",
       "    <tr>\n",
       "      <th>2</th>\n",
       "      <td>7406125__SGS Europe Technical Summary.pdf</td>\n",
       "      <td>1</td>\n",
       "      <td>0</td>\n",
       "      <td>0</td>\n",
       "      <td>0</td>\n",
       "      <td>2</td>\n",
       "      <td>3</td>\n",
       "      <td>0</td>\n",
       "      <td>0</td>\n",
       "      <td>1</td>\n",
       "      <td>:\\n- Below copy was added in production. Pleas...</td>\n",
       "      <td>Yes</td>\n",
       "    </tr>\n",
       "    <tr>\n",
       "      <th>3</th>\n",
       "      <td>7471055__SGS Europe Technical Summary.pdf</td>\n",
       "      <td>1</td>\n",
       "      <td>1</td>\n",
       "      <td>1</td>\n",
       "      <td>1</td>\n",
       "      <td>0</td>\n",
       "      <td>5</td>\n",
       "      <td>1</td>\n",
       "      <td>0</td>\n",
       "      <td>1</td>\n",
       "      <td>:\\n- Separate per job specs to print Surface D...</td>\n",
       "      <td>No</td>\n",
       "    </tr>\n",
       "    <tr>\n",
       "      <th>4</th>\n",
       "      <td>7471056__SGS Europe Technical Summary.pdf</td>\n",
       "      <td>1</td>\n",
       "      <td>1</td>\n",
       "      <td>1</td>\n",
       "      <td>1</td>\n",
       "      <td>0</td>\n",
       "      <td>5</td>\n",
       "      <td>1</td>\n",
       "      <td>0</td>\n",
       "      <td>1</td>\n",
       "      <td>:\\n- Separate per job specs to print Surface D...</td>\n",
       "      <td>No</td>\n",
       "    </tr>\n",
       "  </tbody>\n",
       "</table>\n",
       "</div>"
      ],
      "text/plain": [
       "                                           PDF  Cyan Count  Magenta Count  \\\n",
       "0  7302666_SGS Europe Technical Summary_PP.pdf           1              1   \n",
       "1    7396666__SGS Europe Technical Summary.pdf           1              0   \n",
       "2    7406125__SGS Europe Technical Summary.pdf           1              0   \n",
       "3    7471055__SGS Europe Technical Summary.pdf           1              1   \n",
       "4    7471056__SGS Europe Technical Summary.pdf           1              1   \n",
       "\n",
       "   Yellow Count  Black Count  Pantone Colors Count  Total Colors Found  \\\n",
       "0             1            1                     0                   5   \n",
       "1             0            0                     1                   2   \n",
       "2             0            0                     2                   3   \n",
       "3             1            1                     0                   5   \n",
       "4             1            1                     0                   5   \n",
       "\n",
       "   White Count  Varnish Count  Digital or Other  \\\n",
       "0            0              1                 1   \n",
       "1            0              0                 1   \n",
       "2            0              0                 1   \n",
       "3            1              0                 1   \n",
       "4            1              0                 1   \n",
       "\n",
       "                              Instructions Extracted Eligible to Bypass PP  \n",
       "0  :\\n- Approved for prepress\\n- Trap per printer...                   Yes  \n",
       "1  :\\n- Below copy was added in production. Pleas...                   Yes  \n",
       "2  :\\n- Below copy was added in production. Pleas...                   Yes  \n",
       "3  :\\n- Separate per job specs to print Surface D...                    No  \n",
       "4  :\\n- Separate per job specs to print Surface D...                    No  "
      ]
     },
     "execution_count": 69,
     "metadata": {},
     "output_type": "execute_result"
    }
   ],
   "source": [
    "data = pd.read_excel(r\"C:\\Users\\Krishi\\Documents\\Text_extraction\\final_my update.xlsx\")\n",
    "data.head()"
   ]
  },
  {
   "cell_type": "code",
   "execution_count": 70,
   "id": "c7ae6f80-2062-42a7-87bd-4eedbcc1c4ea",
   "metadata": {},
   "outputs": [
    {
     "data": {
      "text/plain": [
       "(486, 12)"
      ]
     },
     "execution_count": 70,
     "metadata": {},
     "output_type": "execute_result"
    }
   ],
   "source": [
    "data.shape"
   ]
  },
  {
   "cell_type": "code",
   "execution_count": 71,
   "id": "cc557e68-2561-42d8-b7a2-ccca2dfd55bb",
   "metadata": {},
   "outputs": [
    {
     "data": {
      "text/html": [
       "<div>\n",
       "<style scoped>\n",
       "    .dataframe tbody tr th:only-of-type {\n",
       "        vertical-align: middle;\n",
       "    }\n",
       "\n",
       "    .dataframe tbody tr th {\n",
       "        vertical-align: top;\n",
       "    }\n",
       "\n",
       "    .dataframe thead th {\n",
       "        text-align: right;\n",
       "    }\n",
       "</style>\n",
       "<table border=\"1\" class=\"dataframe\">\n",
       "  <thead>\n",
       "    <tr style=\"text-align: right;\">\n",
       "      <th></th>\n",
       "      <th>Ssample_1</th>\n",
       "      <th>Sample_2</th>\n",
       "      <th>Data_type</th>\n",
       "      <th>Null data</th>\n",
       "    </tr>\n",
       "  </thead>\n",
       "  <tbody>\n",
       "    <tr>\n",
       "      <th>PDF</th>\n",
       "      <td>7302666_SGS Europe Technical Summary_PP.pdf</td>\n",
       "      <td>7396666__SGS Europe Technical Summary.pdf</td>\n",
       "      <td>object</td>\n",
       "      <td>0</td>\n",
       "    </tr>\n",
       "    <tr>\n",
       "      <th>Cyan Count</th>\n",
       "      <td>1</td>\n",
       "      <td>1</td>\n",
       "      <td>int64</td>\n",
       "      <td>0</td>\n",
       "    </tr>\n",
       "    <tr>\n",
       "      <th>Magenta Count</th>\n",
       "      <td>1</td>\n",
       "      <td>0</td>\n",
       "      <td>int64</td>\n",
       "      <td>0</td>\n",
       "    </tr>\n",
       "    <tr>\n",
       "      <th>Yellow Count</th>\n",
       "      <td>1</td>\n",
       "      <td>0</td>\n",
       "      <td>int64</td>\n",
       "      <td>0</td>\n",
       "    </tr>\n",
       "    <tr>\n",
       "      <th>Black Count</th>\n",
       "      <td>1</td>\n",
       "      <td>0</td>\n",
       "      <td>int64</td>\n",
       "      <td>0</td>\n",
       "    </tr>\n",
       "    <tr>\n",
       "      <th>Pantone Colors Count</th>\n",
       "      <td>0</td>\n",
       "      <td>1</td>\n",
       "      <td>int64</td>\n",
       "      <td>0</td>\n",
       "    </tr>\n",
       "    <tr>\n",
       "      <th>Total Colors Found</th>\n",
       "      <td>5</td>\n",
       "      <td>2</td>\n",
       "      <td>int64</td>\n",
       "      <td>0</td>\n",
       "    </tr>\n",
       "    <tr>\n",
       "      <th>White Count</th>\n",
       "      <td>0</td>\n",
       "      <td>0</td>\n",
       "      <td>int64</td>\n",
       "      <td>0</td>\n",
       "    </tr>\n",
       "    <tr>\n",
       "      <th>Varnish Count</th>\n",
       "      <td>1</td>\n",
       "      <td>0</td>\n",
       "      <td>int64</td>\n",
       "      <td>0</td>\n",
       "    </tr>\n",
       "    <tr>\n",
       "      <th>Digital or Other</th>\n",
       "      <td>1</td>\n",
       "      <td>1</td>\n",
       "      <td>int64</td>\n",
       "      <td>0</td>\n",
       "    </tr>\n",
       "    <tr>\n",
       "      <th>Instructions Extracted</th>\n",
       "      <td>:\\n- Approved for prepress\\n- Trap per printer...</td>\n",
       "      <td>:\\n- Below copy was added in production. Pleas...</td>\n",
       "      <td>object</td>\n",
       "      <td>45</td>\n",
       "    </tr>\n",
       "    <tr>\n",
       "      <th>Eligible to Bypass PP</th>\n",
       "      <td>Yes</td>\n",
       "      <td>Yes</td>\n",
       "      <td>object</td>\n",
       "      <td>0</td>\n",
       "    </tr>\n",
       "  </tbody>\n",
       "</table>\n",
       "</div>"
      ],
      "text/plain": [
       "                                                                Ssample_1  \\\n",
       "PDF                           7302666_SGS Europe Technical Summary_PP.pdf   \n",
       "Cyan Count                                                              1   \n",
       "Magenta Count                                                           1   \n",
       "Yellow Count                                                            1   \n",
       "Black Count                                                             1   \n",
       "Pantone Colors Count                                                    0   \n",
       "Total Colors Found                                                      5   \n",
       "White Count                                                             0   \n",
       "Varnish Count                                                           1   \n",
       "Digital or Other                                                        1   \n",
       "Instructions Extracted  :\\n- Approved for prepress\\n- Trap per printer...   \n",
       "Eligible to Bypass PP                                                 Yes   \n",
       "\n",
       "                                                                 Sample_2  \\\n",
       "PDF                             7396666__SGS Europe Technical Summary.pdf   \n",
       "Cyan Count                                                              1   \n",
       "Magenta Count                                                           0   \n",
       "Yellow Count                                                            0   \n",
       "Black Count                                                             0   \n",
       "Pantone Colors Count                                                    1   \n",
       "Total Colors Found                                                      2   \n",
       "White Count                                                             0   \n",
       "Varnish Count                                                           0   \n",
       "Digital or Other                                                        1   \n",
       "Instructions Extracted  :\\n- Below copy was added in production. Pleas...   \n",
       "Eligible to Bypass PP                                                 Yes   \n",
       "\n",
       "                       Data_type  Null data  \n",
       "PDF                       object          0  \n",
       "Cyan Count                 int64          0  \n",
       "Magenta Count              int64          0  \n",
       "Yellow Count               int64          0  \n",
       "Black Count                int64          0  \n",
       "Pantone Colors Count       int64          0  \n",
       "Total Colors Found         int64          0  \n",
       "White Count                int64          0  \n",
       "Varnish Count              int64          0  \n",
       "Digital or Other           int64          0  \n",
       "Instructions Extracted    object         45  \n",
       "Eligible to Bypass PP     object          0  "
      ]
     },
     "execution_count": 71,
     "metadata": {},
     "output_type": "execute_result"
    }
   ],
   "source": [
    "sample_df = data.head(2).T\n",
    "sample_df = sample_df.rename(columns = {0:'Ssample_1',1:'Sample_2'})\n",
    "data_type = pd.DataFrame(data.dtypes,columns=['Data_type'])\n",
    "null_data = pd.DataFrame(data.isnull().sum(),columns=['Null data'])\n",
    "sample_data = pd.concat([sample_df,data_type,null_data],axis=1)\n",
    "sample_data"
   ]
  },
  {
   "cell_type": "code",
   "execution_count": 72,
   "id": "8a86d467-c792-48e7-9acd-3d8642047e71",
   "metadata": {},
   "outputs": [
    {
     "name": "stdout",
     "output_type": "stream",
     "text": [
      "PDF                       0\n",
      "Cyan Count                0\n",
      "Magenta Count             0\n",
      "Yellow Count              0\n",
      "Black Count               0\n",
      "Pantone Colors Count      0\n",
      "Total Colors Found        0\n",
      "White Count               0\n",
      "Varnish Count             0\n",
      "Digital or Other          0\n",
      "Instructions Extracted    0\n",
      "Eligible to Bypass PP     0\n",
      "dtype: int64\n"
     ]
    }
   ],
   "source": [
    "data['Instructions Extracted'] = data['Instructions Extracted'].fillna(\"Not applicable\")\n",
    "print(data.isnull().sum())\n"
   ]
  },
  {
   "cell_type": "code",
   "execution_count": 73,
   "id": "0726a0d8-dbc0-4117-a7f2-3319818fbf73",
   "metadata": {},
   "outputs": [
    {
     "data": {
      "text/plain": [
       "0    :\\n- Approved for prepress\\n- Trap per printer...\n",
       "1    :\\n- Below copy was added in production. Pleas...\n",
       "2    :\\n- Below copy was added in production. Pleas...\n",
       "3    :\\n- Separate per job specs to print Surface D...\n",
       "4    :\\n- Separate per job specs to print Surface D...\n",
       "Name: Instructions Extracted, dtype: object"
      ]
     },
     "execution_count": 73,
     "metadata": {},
     "output_type": "execute_result"
    }
   ],
   "source": [
    "data['Instructions Extracted'].head()"
   ]
  },
  {
   "cell_type": "code",
   "execution_count": 74,
   "id": "472d6d82-a0f6-42dd-8879-ef5b90046d55",
   "metadata": {},
   "outputs": [],
   "source": [
    "data.drop(['PDF'],axis=1,inplace=True)"
   ]
  },
  {
   "cell_type": "code",
   "execution_count": 75,
   "id": "b25b5465-b0d7-4f12-b67d-e364c00668c4",
   "metadata": {},
   "outputs": [
    {
     "data": {
      "text/plain": [
       "Index(['Cyan Count', 'Magenta Count', 'Yellow Count', 'Black Count',\n",
       "       'Pantone Colors Count', 'Total Colors Found', 'White Count',\n",
       "       'Varnish Count', 'Digital or Other', 'Instructions Extracted',\n",
       "       'Eligible to Bypass PP'],\n",
       "      dtype='object')"
      ]
     },
     "execution_count": 75,
     "metadata": {},
     "output_type": "execute_result"
    }
   ],
   "source": [
    "data.columns"
   ]
  },
  {
   "cell_type": "code",
   "execution_count": 76,
   "id": "1554f6a0-c95b-4445-887f-80e490a3f8e7",
   "metadata": {},
   "outputs": [
    {
     "data": {
      "text/html": [
       "<div>\n",
       "<style scoped>\n",
       "    .dataframe tbody tr th:only-of-type {\n",
       "        vertical-align: middle;\n",
       "    }\n",
       "\n",
       "    .dataframe tbody tr th {\n",
       "        vertical-align: top;\n",
       "    }\n",
       "\n",
       "    .dataframe thead th {\n",
       "        text-align: right;\n",
       "    }\n",
       "</style>\n",
       "<table border=\"1\" class=\"dataframe\">\n",
       "  <thead>\n",
       "    <tr style=\"text-align: right;\">\n",
       "      <th></th>\n",
       "      <th>Cyan Count</th>\n",
       "      <th>Magenta Count</th>\n",
       "      <th>Yellow Count</th>\n",
       "      <th>Black Count</th>\n",
       "      <th>Pantone Colors Count</th>\n",
       "      <th>Total Colors Found</th>\n",
       "      <th>White Count</th>\n",
       "      <th>Varnish Count</th>\n",
       "      <th>Digital or Other</th>\n",
       "      <th>Instructions Extracted</th>\n",
       "      <th>Eligible to Bypass PP</th>\n",
       "    </tr>\n",
       "  </thead>\n",
       "  <tbody>\n",
       "    <tr>\n",
       "      <th>0</th>\n",
       "      <td>1</td>\n",
       "      <td>1</td>\n",
       "      <td>1</td>\n",
       "      <td>1</td>\n",
       "      <td>0</td>\n",
       "      <td>5</td>\n",
       "      <td>0</td>\n",
       "      <td>1</td>\n",
       "      <td>1</td>\n",
       "      <td>:\\n- Approved for prepress\\n- Trap per printer...</td>\n",
       "      <td>1</td>\n",
       "    </tr>\n",
       "    <tr>\n",
       "      <th>1</th>\n",
       "      <td>1</td>\n",
       "      <td>0</td>\n",
       "      <td>0</td>\n",
       "      <td>0</td>\n",
       "      <td>1</td>\n",
       "      <td>2</td>\n",
       "      <td>0</td>\n",
       "      <td>0</td>\n",
       "      <td>1</td>\n",
       "      <td>:\\n- Below copy was added in production. Pleas...</td>\n",
       "      <td>1</td>\n",
       "    </tr>\n",
       "    <tr>\n",
       "      <th>2</th>\n",
       "      <td>1</td>\n",
       "      <td>0</td>\n",
       "      <td>0</td>\n",
       "      <td>0</td>\n",
       "      <td>2</td>\n",
       "      <td>3</td>\n",
       "      <td>0</td>\n",
       "      <td>0</td>\n",
       "      <td>1</td>\n",
       "      <td>:\\n- Below copy was added in production. Pleas...</td>\n",
       "      <td>1</td>\n",
       "    </tr>\n",
       "    <tr>\n",
       "      <th>3</th>\n",
       "      <td>1</td>\n",
       "      <td>1</td>\n",
       "      <td>1</td>\n",
       "      <td>1</td>\n",
       "      <td>0</td>\n",
       "      <td>5</td>\n",
       "      <td>1</td>\n",
       "      <td>0</td>\n",
       "      <td>1</td>\n",
       "      <td>:\\n- Separate per job specs to print Surface D...</td>\n",
       "      <td>0</td>\n",
       "    </tr>\n",
       "    <tr>\n",
       "      <th>4</th>\n",
       "      <td>1</td>\n",
       "      <td>1</td>\n",
       "      <td>1</td>\n",
       "      <td>1</td>\n",
       "      <td>0</td>\n",
       "      <td>5</td>\n",
       "      <td>1</td>\n",
       "      <td>0</td>\n",
       "      <td>1</td>\n",
       "      <td>:\\n- Separate per job specs to print Surface D...</td>\n",
       "      <td>0</td>\n",
       "    </tr>\n",
       "  </tbody>\n",
       "</table>\n",
       "</div>"
      ],
      "text/plain": [
       "   Cyan Count  Magenta Count  Yellow Count  Black Count  Pantone Colors Count  \\\n",
       "0           1              1             1            1                     0   \n",
       "1           1              0             0            0                     1   \n",
       "2           1              0             0            0                     2   \n",
       "3           1              1             1            1                     0   \n",
       "4           1              1             1            1                     0   \n",
       "\n",
       "   Total Colors Found  White Count  Varnish Count  Digital or Other  \\\n",
       "0                   5            0              1                 1   \n",
       "1                   2            0              0                 1   \n",
       "2                   3            0              0                 1   \n",
       "3                   5            1              0                 1   \n",
       "4                   5            1              0                 1   \n",
       "\n",
       "                              Instructions Extracted  Eligible to Bypass PP  \n",
       "0  :\\n- Approved for prepress\\n- Trap per printer...                      1  \n",
       "1  :\\n- Below copy was added in production. Pleas...                      1  \n",
       "2  :\\n- Below copy was added in production. Pleas...                      1  \n",
       "3  :\\n- Separate per job specs to print Surface D...                      0  \n",
       "4  :\\n- Separate per job specs to print Surface D...                      0  "
      ]
     },
     "execution_count": 76,
     "metadata": {},
     "output_type": "execute_result"
    }
   ],
   "source": [
    "mapping = {'Yes': 1, 'No': 0}\n",
    "\n",
    "data[[ 'Eligible to Bypass PP']] = \\\n",
    "data[[ 'Eligible to Bypass PP']].replace(mapping)\n",
    "data.head()"
   ]
  },
  {
   "cell_type": "code",
   "execution_count": 77,
   "id": "6c7a6835-6cff-4832-bb68-f3164341850d",
   "metadata": {},
   "outputs": [
    {
     "data": {
      "image/png": "[encoded data removed]",
      "text/plain": [
       "<Figure size 640x480 with 1 Axes>"
      ]
     },
     "metadata": {},
     "output_type": "display_data"
    }
   ],
   "source": [
    "ax =sns.countplot(data=data,x='Eligible to Bypass PP',palette='pastel')\n",
    "for container in ax.containers:\n",
    "    ax.bar_label(container)\n",
    "plt.title('Eligible to bypass PP task')\n",
    "plt.show()"
   ]
  },
  {
   "cell_type": "code",
   "execution_count": 78,
   "id": "3df610fa-fbae-42a9-a8e2-3cf5c4fcc8c1",
   "metadata": {
    "scrolled": true
   },
   "outputs": [
    {
     "data": {
      "text/plain": [
       "Eligible to Bypass PP\n",
       "0    57.82\n",
       "1    42.18\n",
       "Name: proportion, dtype: float64"
      ]
     },
     "execution_count": 78,
     "metadata": {},
     "output_type": "execute_result"
    }
   ],
   "source": [
    "round(data['Eligible to Bypass PP'].value_counts(normalize=True)*100,2)"
   ]
  },
  {
   "cell_type": "code",
   "execution_count": 79,
   "id": "58595e42-be3f-4d55-ac1c-a0f678f9f6ba",
   "metadata": {},
   "outputs": [
    {
     "data": {
      "text/plain": [
       "Index(['Cyan Count', 'Magenta Count', 'Yellow Count', 'Black Count',\n",
       "       'Pantone Colors Count', 'Total Colors Found', 'White Count',\n",
       "       'Varnish Count', 'Digital or Other', 'Instructions Extracted',\n",
       "       'Eligible to Bypass PP'],\n",
       "      dtype='object')"
      ]
     },
     "execution_count": 79,
     "metadata": {},
     "output_type": "execute_result"
    }
   ],
   "source": [
    "data.columns"
   ]
  },
  {
   "cell_type": "code",
   "execution_count": 80,
   "id": "a32b1ac2-b5e9-48d9-895d-d29e2b2f1104",
   "metadata": {},
   "outputs": [
    {
     "data": {
      "text/plain": [
       "196"
      ]
     },
     "execution_count": 80,
     "metadata": {},
     "output_type": "execute_result"
    }
   ],
   "source": [
    "data.duplicated().sum()"
   ]
  },
  {
   "cell_type": "code",
   "execution_count": 81,
   "id": "a592e22c-dd89-4e92-8981-6a5d3b0077f6",
   "metadata": {},
   "outputs": [
    {
     "name": "stdout",
     "output_type": "stream",
     "text": [
      "Cross-validation scores: [0.88461538 0.8974359  0.93589744 0.8961039  0.87012987]\n",
      "Mean CV accuracy: 0.90\n",
      "Test Accuracy: 0.90\n"
     ]
    }
   ],
   "source": [
    "import re\n",
    "data.fillna(\"\", inplace=True)  \n",
    "data = data.astype(str) \n",
    "\n",
    "\n",
    "text_column = \"Instructions Extracted\"\n",
    "\n",
    "\n",
    "data[text_column] = data[text_column].apply(lambda x: re.sub(r'\\d+', '', x))\n",
    "\n",
    "\n",
    "tfidf = TfidfVectorizer(stop_words=\"english\", ngram_range=(1,2), max_features=500)\n",
    "x_text_features = tfidf.fit_transform(data[text_column]).toarray()\n",
    "\n",
    "x_text_df = pd.DataFrame(x_text_features, index=data.index, columns=tfidf.get_feature_names_out())\n",
    "\n",
    "x = data.drop(columns=[text_column]).reset_index(drop=True)\n",
    "\n",
    "for col in x.select_dtypes(include=\"object\").columns:\n",
    "    x[col] = x[col].astype(\"category\").cat.codes  # Convert categorical to numerical\n",
    "\n",
    "x = pd.concat([x, x_text_df], axis=1)\n",
    "\n",
    "y = x[\"Eligible to Bypass PP\"]  # Replace with the actual target column\n",
    "x = x.drop(columns=[\"Eligible to Bypass PP\"])  # Drop target from features\n",
    "\n",
    "\n",
    "x.columns = x.columns.astype(str)\n",
    "\n",
    "x_train, x_test, y_train, y_test = train_test_split(x, y, test_size=0.2, random_state=42)\n",
    "\n",
    "scaler = StandardScaler()\n",
    "x_train_scaled = scaler.fit_transform(x_train)\n",
    "x_test_scaled = scaler.transform(x_test)\n",
    "\n",
    "model = LogisticRegression()\n",
    "model.fit(x_train_scaled, y_train)\n",
    "\n",
    "cv_scores = cross_val_score(model, x_train_scaled, y_train, cv=5)\n",
    "print(f\"Cross-validation scores: {cv_scores}\")\n",
    "print(f\"Mean CV accuracy: {cv_scores.mean():.2f}\")\n",
    "\n",
    "\n",
    "accuracy = model.score(x_test_scaled, y_test)\n",
    "print(f\"Test Accuracy: {accuracy:.2f}\")\n"
   ]
  },
  {
   "cell_type": "code",
   "execution_count": 82,
   "id": "6eaac2fc-7f76-4d75-9382-f1ec45e44890",
   "metadata": {},
   "outputs": [
    {
     "name": "stdout",
     "output_type": "stream",
     "text": [
      "classification report :               precision    recall  f1-score   support\n",
      "\n",
      "           0       0.90      0.93      0.91        56\n",
      "           1       0.90      0.86      0.88        42\n",
      "\n",
      "    accuracy                           0.90        98\n",
      "   macro avg       0.90      0.89      0.90        98\n",
      "weighted avg       0.90      0.90      0.90        98\n",
      "\n"
     ]
    },
    {
     "data": {
      "image/png": "[encoded data removed]",
      "text/plain": [
       "<Figure size 640x480 with 2 Axes>"
      ]
     },
     "metadata": {},
     "output_type": "display_data"
    }
   ],
   "source": [
    "cm = ConfusionMatrixDisplay.from_predictions(y_test,model.predict(x_test_scaled))\n",
    "print(\"classification report :\",classification_report(y_test,model.predict(x_test_scaled)))\n"
   ]
  },
  {
   "cell_type": "code",
   "execution_count": 83,
   "id": "7b76dd75-7c73-492c-8bd1-1e78dcd93c29",
   "metadata": {},
   "outputs": [
    {
     "name": "stdout",
     "output_type": "stream",
     "text": [
      "Training Score: 97.42\n",
      "Testing Score: 89.8\n"
     ]
    }
   ],
   "source": [
    "print(\"Training Score:\",round(model.score(x_train_scaled,y_train)*100,2))\n",
    "y_pred = model.predict(x_test_scaled)\n",
    "print(\"Testing Score:\",round(accuracy_score(y_test,y_pred)*100,2))\n"
   ]
  },
  {
   "cell_type": "code",
   "execution_count": 84,
   "id": "dd548674-d194-48cc-b118-8389e25a976e",
   "metadata": {},
   "outputs": [
    {
     "name": "stdout",
     "output_type": "stream",
     "text": [
      "Best Parameter from grid search: {'bootstrap': True, 'criterion': 'entropy', 'max_features': None}\n"
     ]
    }
   ],
   "source": [
    "from sklearn.ensemble import RandomForestClassifier\n",
    "rf_cv = RandomForestClassifier(random_state=42)\n",
    "hyper_fit = GridSearchCV(rf_cv, cv=5,\n",
    "                         param_grid = {'criterion': ['gini', 'entropy'],\n",
    "                                       'bootstrap': [True, False],\n",
    "                                       'max_features': ['sqrt', 'log2', None, 'auto']},\n",
    "                         n_jobs=-1)\n",
    "hyper_fit.fit(x_train, y_train)\n",
    "print('Best Parameter from grid search:', hyper_fit.best_params_)\n"
   ]
  },
  {
   "cell_type": "code",
   "execution_count": 85,
   "id": "bca9bdfd-61bb-4017-ada4-ede4caf96ce3",
   "metadata": {},
   "outputs": [],
   "source": [
    "best_params = hyper_fit.best_params_\n",
    "final_model = RandomForestClassifier(**best_params, random_state=42)"
   ]
  },
  {
   "cell_type": "code",
   "execution_count": 86,
   "id": "98b90cd9-94cd-4ac4-a8d7-11e77db5f2fa",
   "metadata": {},
   "outputs": [
    {
     "name": "stdout",
     "output_type": "stream",
     "text": [
      "<bound method BaseEstimator.get_params of RandomForestClassifier(criterion='entropy', max_features=None, n_estimators=261,\n",
      "                       random_state=42)>\n",
      "\n",
      "Training Score: 97.94 %\n",
      "Testing Score: 92.86 %\n",
      "Classification Report:\n",
      "\n",
      "               precision    recall  f1-score   support\n",
      "\n",
      "           0       0.93      0.95      0.94        56\n",
      "           1       0.93      0.90      0.92        42\n",
      "\n",
      "    accuracy                           0.93        98\n",
      "   macro avg       0.93      0.93      0.93        98\n",
      "weighted avg       0.93      0.93      0.93        98\n",
      "\n"
     ]
    },
    {
     "data": {
      "image/png": "[encoded data removed]",
      "text/plain": [
       "<Figure size 640x480 with 2 Axes>"
      ]
     },
     "metadata": {},
     "output_type": "display_data"
    }
   ],
   "source": [
    "# refining the trees via OOB\n",
    "final_model.set_params(n_estimators=261, warm_start=False, oob_score=False, random_state=42)\n",
    "\n",
    "# final model parameters\n",
    "print(final_model.get_params)\n",
    "\n",
    "final_model.fit(x_train_scaled, y_train)\n",
    "\n",
    "# training score\n",
    "print('\\nTraining Score:', round(final_model.score(x_train_scaled, y_train)*100, 2), '%')\n",
    "\n",
    "# prediction\n",
    "y_pred_rf = final_model.predict(x_test_scaled)\n",
    "\n",
    "# metrics\n",
    "print('Testing Score:', round(accuracy_score(y_test, y_pred_rf)*100, 2), '%')\n",
    "cm = ConfusionMatrixDisplay.from_predictions(y_test, y_pred_rf)\n",
    "print('Classification Report:\\n\\n', classification_report(y_test, y_pred_rf))"
   ]
  },
  {
   "cell_type": "code",
   "execution_count": 87,
   "id": "69a76118-8d6a-4a6d-bfaa-976ce3b7a0de",
   "metadata": {},
   "outputs": [
    {
     "name": "stdout",
     "output_type": "stream",
     "text": [
      "94.85\n",
      "90.82\n",
      "              precision    recall  f1-score   support\n",
      "\n",
      "           0       0.93      0.91      0.92        56\n",
      "           1       0.88      0.90      0.89        42\n",
      "\n",
      "    accuracy                           0.91        98\n",
      "   macro avg       0.91      0.91      0.91        98\n",
      "weighted avg       0.91      0.91      0.91        98\n",
      "\n"
     ]
    },
    {
     "data": {
      "image/png": "[encoded data removed]",
      "text/plain": [
       "<Figure size 640x480 with 2 Axes>"
      ]
     },
     "metadata": {},
     "output_type": "display_data"
    }
   ],
   "source": [
    "from sklearn.tree import DecisionTreeClassifier\n",
    "from sklearn.metrics import accuracy_score\n",
    "\n",
    "# Training\n",
    "dt = DecisionTreeClassifier(random_state=42, max_depth=4)\n",
    "dt.fit(x_train_scaled, y_train)\n",
    "print(round(dt.score(x_train_scaled, y_train)*100,2))\n",
    "\n",
    "# Testing\n",
    "dt_pred = dt.predict(x_test_scaled)\n",
    "print(round(accuracy_score(y_test, dt_pred)*100,2))\n",
    "\n",
    "# Confusion Matrix and report\n",
    "cm = ConfusionMatrixDisplay.from_predictions(y_test, dt_pred)\n",
    "report = classification_report(y_test, dt_pred)\n",
    "print(report)"
   ]
  },
  {
   "cell_type": "code",
   "execution_count": 88,
   "id": "555865e3-cf54-4cb7-8a0f-bd38ae2d75d0",
   "metadata": {},
   "outputs": [
    {
     "name": "stdout",
     "output_type": "stream",
     "text": [
      "Training Accuracy: 97.42 %\n",
      "Testing Accuracy: 92.0\n"
     ]
    },
    {
     "data": {
      "image/png": "[encoded data removed]",
      "text/plain": [
       "<Figure size 640x480 with 2 Axes>"
      ]
     },
     "metadata": {},
     "output_type": "display_data"
    }
   ],
   "source": [
    "from sklearn.ensemble import AdaBoostClassifier\n",
    "# estimator\n",
    "tree_clf = DecisionTreeClassifier(criterion='entropy', random_state=42, max_depth=1)\n",
    "\n",
    "# Adaboost model\n",
    "adboost_model = AdaBoostClassifier(estimator=tree_clf, n_estimators=100)\n",
    "adboost_model.fit(x_train_scaled, y_train)\n",
    "print('Training Accuracy:', round(adboost_model.score(x_train_scaled, y_train)*100,2), '%')\n",
    "\n",
    "# Prediction testing\n",
    "y_pred_ab = adboost_model.predict(x_test_scaled)\n",
    "\n",
    "# metrics\n",
    "cm = ConfusionMatrixDisplay.from_predictions(y_test, y_pred_ab)\n",
    "print('Testing Accuracy:', round(accuracy_score(y_test, y_pred_ab),2)*100)"
   ]
  },
  {
   "cell_type": "code",
   "execution_count": 89,
   "id": "6a9f7e02-a402-4755-9f50-634ab40649c5",
   "metadata": {},
   "outputs": [
    {
     "name": "stdout",
     "output_type": "stream",
     "text": [
      "Accuracy: 0.9285714285714286\n",
      "              precision    recall  f1-score   support\n",
      "\n",
      "           0       0.93      0.95      0.94        56\n",
      "           1       0.93      0.90      0.92        42\n",
      "\n",
      "    accuracy                           0.93        98\n",
      "   macro avg       0.93      0.93      0.93        98\n",
      "weighted avg       0.93      0.93      0.93        98\n",
      "\n"
     ]
    }
   ],
   "source": [
    "import xgboost as xgb\n",
    "xgb_clf = xgb.XGBClassifier(objective='binary:logistic', eval_metric='logloss', use_label_encoder=False)\n",
    "\n",
    "# Train the model\n",
    "xgb_clf.fit(x_train_scaled, y_train)\n",
    "\n",
    "\n",
    "# Predictions\n",
    "y_pred = xgb_clf.predict(x_test_scaled)\n",
    "\n",
    "# Evaluate Performance\n",
    "print(\"Accuracy:\", accuracy_score(y_test, y_pred))\n",
    "print(classification_report(y_test, y_pred))"
   ]
  },
  {
   "cell_type": "code",
   "execution_count": 90,
   "id": "c188d67e-0f86-421e-9f59-a0cc7fb9bee2",
   "metadata": {},
   "outputs": [
    {
     "name": "stdout",
     "output_type": "stream",
     "text": [
      "Best Parameters: {'learning_rate': 0.01, 'max_depth': 7, 'min_child_weight': 1, 'n_estimators': 200}\n",
      "Tuned XGBoost Accuracy: 0.9081632653061225\n",
      "              precision    recall  f1-score   support\n",
      "\n",
      "           0       0.90      0.95      0.92        56\n",
      "           1       0.92      0.86      0.89        42\n",
      "\n",
      "    accuracy                           0.91        98\n",
      "   macro avg       0.91      0.90      0.91        98\n",
      "weighted avg       0.91      0.91      0.91        98\n",
      "\n"
     ]
    }
   ],
   "source": [
    "param_grid = {\n",
    "    'n_estimators': [50, 100, 200],\n",
    "    'learning_rate': [0.01, 0.1, 0.3],\n",
    "    'max_depth': [3, 5, 7],\n",
    "    'min_child_weight': [1, 3, 5]\n",
    "}\n",
    "\n",
    "grid_search = GridSearchCV(xgb.XGBClassifier(objective='binary:logistic', eval_metric='logloss', use_label_encoder=False),\n",
    "                           param_grid, cv=5, scoring='f1')\n",
    "\n",
    "grid_search.fit(x_train_scaled, y_train)\n",
    "\n",
    "# Best parameters\n",
    "print(\"Best Parameters:\", grid_search.best_params_)\n",
    "\n",
    "# Evaluate best model\n",
    "best_xgb = grid_search.best_estimator_\n",
    "y_pred_best = best_xgb.predict(x_test_scaled)\n",
    "\n",
    "print(\"Tuned XGBoost Accuracy:\", accuracy_score(y_test, y_pred_best))\n",
    "print(classification_report(y_test, y_pred_best))\n"
   ]
  },
  {
   "cell_type": "code",
   "execution_count": 91,
   "id": "a41b40bf-fadf-4386-ad2b-4740bfd8f542",
   "metadata": {},
   "outputs": [
    {
     "data": {
      "text/plain": [
       "Index(['Cyan Count', 'Magenta Count', 'Yellow Count', 'Black Count',\n",
       "       'Pantone Colors Count', 'Total Colors Found', 'White Count',\n",
       "       'Varnish Count', 'Digital or Other', 'Instructions Extracted',\n",
       "       'Eligible to Bypass PP'],\n",
       "      dtype='object')"
      ]
     },
     "execution_count": 91,
     "metadata": {},
     "output_type": "execute_result"
    }
   ],
   "source": [
    "data.columns"
   ]
  },
  {
   "cell_type": "code",
   "execution_count": 92,
   "id": "d38c9d9e-da89-44ea-99f0-640ff02813e0",
   "metadata": {},
   "outputs": [
    {
     "data": {
      "text/html": [
       "<div>\n",
       "<style scoped>\n",
       "    .dataframe tbody tr th:only-of-type {\n",
       "        vertical-align: middle;\n",
       "    }\n",
       "\n",
       "    .dataframe tbody tr th {\n",
       "        vertical-align: top;\n",
       "    }\n",
       "\n",
       "    .dataframe thead th {\n",
       "        text-align: right;\n",
       "    }\n",
       "</style>\n",
       "<table border=\"1\" class=\"dataframe\">\n",
       "  <thead>\n",
       "    <tr style=\"text-align: right;\">\n",
       "      <th></th>\n",
       "      <th>Pantone Colors Count</th>\n",
       "      <th>Total Colors Found</th>\n",
       "      <th>White Count</th>\n",
       "      <th>Varnish Count</th>\n",
       "      <th>Digital or Other</th>\n",
       "      <th>Instructions Extracted</th>\n",
       "      <th>Eligible to Bypass PP</th>\n",
       "    </tr>\n",
       "  </thead>\n",
       "  <tbody>\n",
       "    <tr>\n",
       "      <th>0</th>\n",
       "      <td>0</td>\n",
       "      <td>5</td>\n",
       "      <td>0</td>\n",
       "      <td>1</td>\n",
       "      <td>1</td>\n",
       "      <td>:\\n- Approved for prepress\\n- Trap per printer...</td>\n",
       "      <td>1</td>\n",
       "    </tr>\n",
       "    <tr>\n",
       "      <th>1</th>\n",
       "      <td>1</td>\n",
       "      <td>2</td>\n",
       "      <td>0</td>\n",
       "      <td>0</td>\n",
       "      <td>1</td>\n",
       "      <td>:\\n- Below copy was added in production. Pleas...</td>\n",
       "      <td>1</td>\n",
       "    </tr>\n",
       "    <tr>\n",
       "      <th>2</th>\n",
       "      <td>2</td>\n",
       "      <td>3</td>\n",
       "      <td>0</td>\n",
       "      <td>0</td>\n",
       "      <td>1</td>\n",
       "      <td>:\\n- Below copy was added in production. Pleas...</td>\n",
       "      <td>1</td>\n",
       "    </tr>\n",
       "    <tr>\n",
       "      <th>3</th>\n",
       "      <td>0</td>\n",
       "      <td>5</td>\n",
       "      <td>1</td>\n",
       "      <td>0</td>\n",
       "      <td>1</td>\n",
       "      <td>:\\n- Separate per job specs to print Surface D...</td>\n",
       "      <td>0</td>\n",
       "    </tr>\n",
       "    <tr>\n",
       "      <th>4</th>\n",
       "      <td>0</td>\n",
       "      <td>5</td>\n",
       "      <td>1</td>\n",
       "      <td>0</td>\n",
       "      <td>1</td>\n",
       "      <td>:\\n- Separate per job specs to print Surface D...</td>\n",
       "      <td>0</td>\n",
       "    </tr>\n",
       "  </tbody>\n",
       "</table>\n",
       "</div>"
      ],
      "text/plain": [
       "  Pantone Colors Count Total Colors Found White Count Varnish Count  \\\n",
       "0                    0                  5           0             1   \n",
       "1                    1                  2           0             0   \n",
       "2                    2                  3           0             0   \n",
       "3                    0                  5           1             0   \n",
       "4                    0                  5           1             0   \n",
       "\n",
       "  Digital or Other                             Instructions Extracted  \\\n",
       "0                1  :\\n- Approved for prepress\\n- Trap per printer...   \n",
       "1                1  :\\n- Below copy was added in production. Pleas...   \n",
       "2                1  :\\n- Below copy was added in production. Pleas...   \n",
       "3                1  :\\n- Separate per job specs to print Surface D...   \n",
       "4                1  :\\n- Separate per job specs to print Surface D...   \n",
       "\n",
       "  Eligible to Bypass PP  \n",
       "0                     1  \n",
       "1                     1  \n",
       "2                     1  \n",
       "3                     0  \n",
       "4                     0  "
      ]
     },
     "execution_count": 92,
     "metadata": {},
     "output_type": "execute_result"
    }
   ],
   "source": [
    "filtered_df = data.drop(['Cyan Count', 'Magenta Count', 'Yellow Count', 'Black Count'],axis=1)\n",
    "filtered_df.head()"
   ]
  },
  {
   "cell_type": "code",
   "execution_count": 93,
   "id": "3fbc6acf-93f5-4992-8d96-746454617c6b",
   "metadata": {},
   "outputs": [],
   "source": [
    "\n",
    "\n",
    "# ✅ Convert column before applying function\n",
    "filtered_df[\"Total Colors Found\"] = pd.to_numeric(filtered_df[\"Total Colors Found\"], errors=\"coerce\")\n",
    "filtered_df[\"Color Eligible to Bypass\"] = filtered_df.apply(determine_color_bypass, axis=1)\n"
   ]
  },
  {
   "cell_type": "code",
   "execution_count": 94,
   "id": "79112b89-c259-4a1a-8ac1-8f850dba9e1c",
   "metadata": {},
   "outputs": [
    {
     "name": "stdout",
     "output_type": "stream",
     "text": [
      "Initial number of features: 8\n",
      "Categorical columns found: ['Pantone Colors Count', 'White Count', 'Varnish Count', 'Digital or Other', 'Eligible to Bypass Auto Trap']\n",
      "Feature count after categorical encoding: 7\n",
      "Final feature count after merging TF-IDF: 557\n",
      "Training accuracy: 97.16\n",
      "Cross-validation scores: [0.85897436 0.8974359  0.94871795 0.90909091 0.90909091]\n",
      "Mean CV accuracy: 0.90\n",
      "Test Accuracy: 0.92\n",
      "Classification Report:\n",
      "               precision    recall  f1-score   support\n",
      "\n",
      "           0       0.91      0.95      0.93        56\n",
      "           1       0.93      0.88      0.90        42\n",
      "\n",
      "    accuracy                           0.92        98\n",
      "   macro avg       0.92      0.91      0.92        98\n",
      "weighted avg       0.92      0.92      0.92        98\n",
      "\n",
      "Reloaded categorical encoders: ['Pantone Colors Count', 'White Count', 'Varnish Count', 'Digital or Other', 'Eligible to Bypass Auto Trap']\n",
      "Model and preprocessing tools saved successfully!\n"
     ]
    },
    {
     "data": {
      "image/png": "[encoded data removed]",
      "text/plain": [
       "<Figure size 640x480 with 2 Axes>"
      ]
     },
     "metadata": {},
     "output_type": "display_data"
    }
   ],
   "source": [
    "import pandas as pd\n",
    "import numpy as np\n",
    "import re\n",
    "import joblib\n",
    "\n",
    "from sklearn.feature_extraction.text import TfidfVectorizer\n",
    "from sklearn.model_selection import train_test_split, cross_val_score\n",
    "from sklearn.preprocessing import StandardScaler, LabelEncoder\n",
    "from sklearn.linear_model import LogisticRegression\n",
    "from sklearn.metrics import classification_report, ConfusionMatrixDisplay\n",
    "\n",
    "# Ensure filtered_df is a DataFrame\n",
    "filtered_df = pd.DataFrame(filtered_df) \n",
    "\n",
    "# Fill missing values\n",
    "filtered_df.fillna(\"\", inplace=True)\n",
    "\n",
    "# Convert only the text column to string\n",
    "text_column = \"Instructions Extracted\"\n",
    "filtered_df[text_column] = filtered_df[text_column].astype(str)\n",
    "\n",
    "# Remove digits from text column\n",
    "filtered_df[text_column] = filtered_df[text_column].apply(lambda x: re.sub(r'\\d+', '', x))\n",
    "\n",
    "# ✅ Apply conditions for additional derived columns\n",
    "if \"Total Colors Found\" in filtered_df.columns and \"Digital or Other\" in filtered_df.columns:\n",
    "    filtered_df[\"Color Eligible to Bypass\"] = filtered_df.apply(\n",
    "        lambda row: 1 if row[\"Total Colors Found\"] <= 2 or row[\"Digital or Other\"] in [0, 1] else 0,\n",
    "        axis=1\n",
    "    )\n",
    "\n",
    "\n",
    "\n",
    "if \"Digital or Other\" in filtered_df.columns:\n",
    "    filtered_df[\"Eligible to Bypass Auto Trap\"] = filtered_df[\"Digital or Other\"]\n",
    "else:\n",
    "    print(\"⚠️ 'Digital or Other' column is missing!\")\n",
    "\n",
    "\n",
    "# Define target column\n",
    "target_column = \"Eligible to Bypass PP\"\n",
    "x = filtered_df.drop(columns=[target_column])  # Features\n",
    "y_filt = filtered_df[target_column].astype(int)  # Target variable\n",
    "\n",
    "# Print column count before processing\n",
    "print(f\"Initial number of features: {x.shape[1]}\")\n",
    "\n",
    "x_train_filt, x_test_filt, y_train_filt, y_test_filt = train_test_split(\n",
    "    x, y_filt, test_size=0.2, random_state=42\n",
    ")\n",
    "\n",
    "# Fit TF-IDF on training text and transform test text\n",
    "tfidf = TfidfVectorizer(stop_words=\"english\", ngram_range=(1, 2), max_features=550)\n",
    "x_train_text_features = tfidf.fit_transform(x_train_filt[text_column]).toarray()\n",
    "x_test_text_features = tfidf.transform(x_test_filt[text_column]).toarray()\n",
    "\n",
    "# Convert to DataFrame\n",
    "x_train_text_df = pd.DataFrame(x_train_text_features, index=x_train_filt.index, columns=tfidf.get_feature_names_out())\n",
    "x_test_text_df = pd.DataFrame(x_test_text_features, index=x_test_filt.index, columns=tfidf.get_feature_names_out())\n",
    "\n",
    "# Drop text column before merging\n",
    "x_train_filt = x_train_filt.drop(columns=[text_column]).copy()\n",
    "x_test_filt = x_test_filt.drop(columns=[text_column]).copy()\n",
    "\n",
    "# Convert categorical variables using LabelEncoder and store mappings\n",
    "label_encoders = {}\n",
    "categorical_columns = x_train_filt.select_dtypes(include=\"object\").columns.tolist()\n",
    "\n",
    "if categorical_columns:\n",
    "    print(f\"Categorical columns found: {categorical_columns}\")\n",
    "else:\n",
    "    print(\" No categorical columns found!\")\n",
    "\n",
    "for col in categorical_columns:\n",
    "    le = LabelEncoder()\n",
    "    x_train_filt[col] = le.fit_transform(x_train_filt[col].fillna(\"Unknown\"))\n",
    "    x_test_filt[col] = le.transform(x_test_filt[col].fillna(\"Unknown\"))\n",
    "    label_encoders[col] = le  # Store encoder for later use\n",
    "\n",
    "# Save categorical encoders in a separate file\n",
    "joblib.dump(label_encoders, \"label_encoders.pkl\")\n",
    "\n",
    "# Print column count after encoding\n",
    "print(f\"Feature count after categorical encoding: {x_train_filt.shape[1]}\")\n",
    "\n",
    "# Merge numeric & text features\n",
    "x_train_filt = pd.concat([x_train_filt, x_train_text_df], axis=1)\n",
    "x_test_filt = pd.concat([x_test_filt, x_test_text_df], axis=1)\n",
    "\n",
    "# Print column count after merging text features\n",
    "print(f\"Final feature count after merging TF-IDF: {x_train_filt.shape[1]}\")\n",
    "\n",
    "# Ensure train/test have the same number of columns\n",
    "assert x_train_filt.shape[1] == x_test_filt.shape[1], \"Mismatch in feature size after transformations!\"\n",
    "\n",
    "# Standardize features\n",
    "scaler = StandardScaler()\n",
    "x_train_scaled_filt = scaler.fit_transform(x_train_filt)\n",
    "x_test_scaled_filt = scaler.transform(x_test_filt)\n",
    "\n",
    "# Train logistic regression model\n",
    "model_lr = LogisticRegression()\n",
    "model_lr.fit(x_train_scaled_filt, y_train_filt)\n",
    "print(\"Training accuracy:\", round(model_lr.score(x_train_scaled_filt, y_train_filt) * 100, 2))\n",
    "\n",
    "# Cross-validation\n",
    "cv_scores = cross_val_score(model_lr, x_train_scaled_filt, y_train_filt, cv=5)\n",
    "print(f\"Cross-validation scores: {cv_scores}\")\n",
    "print(f\"Mean CV accuracy: {cv_scores.mean():.2f}\")\n",
    "\n",
    "# Evaluate on test set\n",
    "accuracy = model_lr.score(x_test_scaled_filt, y_test_filt)\n",
    "print(f\"Test Accuracy: {accuracy:.2f}\")\n",
    "\n",
    "# Predictions\n",
    "y_pred_lr = model_lr.predict(x_test_scaled_filt)\n",
    "\n",
    "# Display confusion matrix\n",
    "ConfusionMatrixDisplay.from_predictions(y_test_filt, y_pred_lr)\n",
    "print(\"Classification Report:\\n\", classification_report(y_test_filt, y_pred_lr))\n",
    "\n",
    "# Save the model & preprocessors\n",
    "joblib.dump(model_lr, \"logistic_regression_model.pkl\")\n",
    "joblib.dump(scaler, \"scaler.pkl\")\n",
    "joblib.dump(tfidf, \"tfidf_vectorizer.pkl\")\n",
    "\n",
    "# Save TF-IDF feature names\n",
    "tfidf_features = tfidf.get_feature_names_out()\n",
    "joblib.dump(tfidf_features, \"tfidf_features.pkl\")\n",
    "\n",
    "# Reload and validate categorical encoders\n",
    "reloaded_encoders = joblib.load(\"label_encoders.pkl\")\n",
    "print(f\"Reloaded categorical encoders: {list(reloaded_encoders.keys())}\")\n",
    "\n",
    "print(\"Model and preprocessing tools saved successfully!\")\n"
   ]
  },
  {
   "cell_type": "code",
   "execution_count": 95,
   "id": "7c975290-5321-46e5-b2d6-2734fb076a50",
   "metadata": {},
   "outputs": [
    {
     "data": {
      "text/plain": [
       "['categorical_columns.pkl']"
      ]
     },
     "execution_count": 95,
     "metadata": {},
     "output_type": "execute_result"
    }
   ],
   "source": [
    "import joblib\n",
    "\n",
    "# Assuming `x_train_filt` contains categorical features\n",
    "categorical_columns = list(x_train_filt.columns)  # Get feature names\n",
    "joblib.dump(categorical_columns, \"categorical_columns.pkl\") "
   ]
  },
  {
   "cell_type": "code",
   "execution_count": 96,
   "id": "95369163-1f18-4a5a-9cf9-937c54b46256",
   "metadata": {},
   "outputs": [
    {
     "name": "stdout",
     "output_type": "stream",
     "text": [
      "Requirement already satisfied: FastAPI in c:\\users\\krishi\\anaconda3\\anaconda\\lib\\site-packages (0.115.8)\n",
      "Requirement already satisfied: starlette<0.46.0,>=0.40.0 in c:\\users\\krishi\\anaconda3\\anaconda\\lib\\site-packages (from FastAPI) (0.45.3)\n",
      "Requirement already satisfied: pydantic!=1.8,!=1.8.1,!=2.0.0,!=2.0.1,!=2.1.0,<3.0.0,>=1.7.4 in c:\\users\\krishi\\anaconda3\\anaconda\\lib\\site-packages (from FastAPI) (2.5.3)\n",
      "Requirement already satisfied: typing-extensions>=4.8.0 in c:\\users\\krishi\\anaconda3\\anaconda\\lib\\site-packages (from FastAPI) (4.11.0)\n",
      "Requirement already satisfied: annotated-types>=0.4.0 in c:\\users\\krishi\\anaconda3\\anaconda\\lib\\site-packages (from pydantic!=1.8,!=1.8.1,!=2.0.0,!=2.0.1,!=2.1.0,<3.0.0,>=1.7.4->FastAPI) (0.6.0)\n",
      "Requirement already satisfied: pydantic-core==2.14.6 in c:\\users\\krishi\\anaconda3\\anaconda\\lib\\site-packages (from pydantic!=1.8,!=1.8.1,!=2.0.0,!=2.0.1,!=2.1.0,<3.0.0,>=1.7.4->FastAPI) (2.14.6)\n",
      "Requirement already satisfied: anyio<5,>=3.6.2 in c:\\users\\krishi\\anaconda3\\anaconda\\lib\\site-packages (from starlette<0.46.0,>=0.40.0->FastAPI) (4.2.0)\n",
      "Requirement already satisfied: idna>=2.8 in c:\\users\\krishi\\anaconda3\\anaconda\\lib\\site-packages (from anyio<5,>=3.6.2->starlette<0.46.0,>=0.40.0->FastAPI) (3.7)\n",
      "Requirement already satisfied: sniffio>=1.1 in c:\\users\\krishi\\anaconda3\\anaconda\\lib\\site-packages (from anyio<5,>=3.6.2->starlette<0.46.0,>=0.40.0->FastAPI) (1.3.0)\n"
     ]
    }
   ],
   "source": [
    "!pip install FastAPI"
   ]
  },
  {
   "cell_type": "code",
   "execution_count": 97,
   "id": "513dc6cb-8a12-4ca0-85ca-9da4fc57078d",
   "metadata": {},
   "outputs": [],
   "source": [
    "from fastapi import FastAPI\n",
    "from pydantic import BaseModel\n",
    "import joblib\n",
    "import pandas as pd\n",
    "import numpy as np\n",
    "import re\n",
    "\n",
    "# Load saved model and preprocessing tools\n",
    "model = joblib.load(\"logistic_regression_model.pkl\")\n",
    "scaler = joblib.load(\"scaler.pkl\")\n",
    "tfidf_vectorizer = joblib.load(\"tfidf_vectorizer.pkl\")\n",
    "categorical_columns = joblib.load(\"categorical_columns.pkl\")  # Save this during training\n",
    "\n",
    "# Initialize FastAPI app\n",
    "app = FastAPI()\n",
    "\n",
    "# Define request schema\n",
    "class PredictionRequest(BaseModel):\n",
    "    Instructions_Extracted: str\n",
    "    categorical_features: dict\n",
    "\n",
    "@app.post(\"/predict\")\n",
    "def predict(data: PredictionRequest):\n",
    "    try:\n",
    "        # Preprocess text data (TF-IDF transformation)\n",
    "        text_feature = [re.sub(r\"\\d+\", \"\", data.Instructions_Extracted)]  # Remove numbers\n",
    "        text_transformed = tfidf_vectorizer.transform(text_feature).toarray()\n",
    "\n",
    "        # Convert categorical features to DataFrame\n",
    "        cat_features_df = pd.DataFrame([data.categorical_features])\n",
    "\n",
    "        # Ensure all categorical columns exist (handle missing ones)\n",
    "        for col in categorical_columns:\n",
    "            if col not in cat_features_df:\n",
    "                cat_features_df[col] = 0  # Fill missing categorical columns\n",
    "\n",
    "        # Convert categorical columns to numerical encoding\n",
    "        for col in cat_features_df.select_dtypes(include=\"object\").columns:\n",
    "            cat_features_df[col] = cat_features_df[col].astype(\"category\").cat.codes\n",
    "\n",
    "        # Combine categorical and text features\n",
    "        input_data = np.hstack([cat_features_df[categorical_columns].to_numpy(), text_transformed])\n",
    "\n",
    "        # Debugging step: Check feature shape\n",
    "        expected_features = scaler.mean_.shape[0]\n",
    "        actual_features = input_data.shape[1]\n",
    "        print(f\"Expected feature count: {expected_features}, Actual: {actual_features}\")\n",
    "\n",
    "        # Ensure feature size is correct\n",
    "        if actual_features != expected_features:\n",
    "            return {\"error\": f\"Feature mismatch: Expected {expected_features}, got {actual_features}\"}\n",
    "\n",
    "        # Scale features\n",
    "        input_scaled = scaler.transform(input_data)\n",
    "\n",
    "        # Make prediction\n",
    "        prediction = model.predict(input_scaled)\n",
    "        prediction_label = int(prediction[0])  # Convert to integer\n",
    "\n",
    "        return {\"prediction\": prediction_label}\n",
    "    \n",
    "    except Exception as e:\n",
    "        return {\"error\": str(e)}\n",
    "\n",
    "@app.get(\"/\")\n",
    "def home():\n",
    "    return {\"message\": \"FastAPI Logistic Regression Model is running!\"}\n",
    "\n",
    "\n"
   ]
  },
  {
   "cell_type": "code",
   "execution_count": 98,
   "id": "154270fd-deb1-45e3-b9c5-7cead29dbb1e",
   "metadata": {},
   "outputs": [
    {
     "name": "stdout",
     "output_type": "stream",
     "text": [
      "Expected Features Count: 557\n",
      "New Data Features Count: 2\n"
     ]
    }
   ],
   "source": [
    "import joblib\n",
    "import pandas as pd\n",
    "\n",
    "# Load saved feature names\n",
    "expected_features = joblib.load(\"categorical_columns.pkl\")\n",
    "print(f\"Expected Features Count: {len(expected_features)}\")\n",
    "\n",
    "# Load new request data\n",
    "new_data = pd.DataFrame([{\"feature1\": \"value1\", \"feature2\": \"value2\"}])  # Example\n",
    "\n",
    "print(f\"New Data Features Count: {new_data.shape[1]}\")\n"
   ]
  },
  {
   "cell_type": "code",
   "execution_count": 99,
   "id": "1aa6d485-8365-4d23-a4d2-a4269d759c91",
   "metadata": {},
   "outputs": [
    {
     "data": {
      "text/html": [
       "<div>\n",
       "<style scoped>\n",
       "    .dataframe tbody tr th:only-of-type {\n",
       "        vertical-align: middle;\n",
       "    }\n",
       "\n",
       "    .dataframe tbody tr th {\n",
       "        vertical-align: top;\n",
       "    }\n",
       "\n",
       "    .dataframe thead th {\n",
       "        text-align: right;\n",
       "    }\n",
       "</style>\n",
       "<table border=\"1\" class=\"dataframe\">\n",
       "  <thead>\n",
       "    <tr style=\"text-align: right;\">\n",
       "      <th></th>\n",
       "      <th>Pantone Colors Count</th>\n",
       "      <th>Total Colors Found</th>\n",
       "      <th>White Count</th>\n",
       "      <th>Varnish Count</th>\n",
       "      <th>Digital or Other</th>\n",
       "      <th>Instructions Extracted</th>\n",
       "      <th>Eligible to Bypass PP</th>\n",
       "      <th>Color Eligible to Bypass</th>\n",
       "      <th>Eligible to Bypass Auto Trap</th>\n",
       "    </tr>\n",
       "  </thead>\n",
       "  <tbody>\n",
       "    <tr>\n",
       "      <th>0</th>\n",
       "      <td>0</td>\n",
       "      <td>5</td>\n",
       "      <td>0</td>\n",
       "      <td>1</td>\n",
       "      <td>1</td>\n",
       "      <td>:\\n- Approved for prepress\\n- Trap per printer...</td>\n",
       "      <td>1</td>\n",
       "      <td>0</td>\n",
       "      <td>1</td>\n",
       "    </tr>\n",
       "    <tr>\n",
       "      <th>1</th>\n",
       "      <td>1</td>\n",
       "      <td>2</td>\n",
       "      <td>0</td>\n",
       "      <td>0</td>\n",
       "      <td>1</td>\n",
       "      <td>:\\n- Below copy was added in production. Pleas...</td>\n",
       "      <td>1</td>\n",
       "      <td>1</td>\n",
       "      <td>1</td>\n",
       "    </tr>\n",
       "    <tr>\n",
       "      <th>2</th>\n",
       "      <td>2</td>\n",
       "      <td>3</td>\n",
       "      <td>0</td>\n",
       "      <td>0</td>\n",
       "      <td>1</td>\n",
       "      <td>:\\n- Below copy was added in production. Pleas...</td>\n",
       "      <td>1</td>\n",
       "      <td>0</td>\n",
       "      <td>1</td>\n",
       "    </tr>\n",
       "    <tr>\n",
       "      <th>3</th>\n",
       "      <td>0</td>\n",
       "      <td>5</td>\n",
       "      <td>1</td>\n",
       "      <td>0</td>\n",
       "      <td>1</td>\n",
       "      <td>:\\n- Separate per job specs to print Surface D...</td>\n",
       "      <td>0</td>\n",
       "      <td>0</td>\n",
       "      <td>1</td>\n",
       "    </tr>\n",
       "    <tr>\n",
       "      <th>4</th>\n",
       "      <td>0</td>\n",
       "      <td>5</td>\n",
       "      <td>1</td>\n",
       "      <td>0</td>\n",
       "      <td>1</td>\n",
       "      <td>:\\n- Separate per job specs to print Surface D...</td>\n",
       "      <td>0</td>\n",
       "      <td>0</td>\n",
       "      <td>1</td>\n",
       "    </tr>\n",
       "  </tbody>\n",
       "</table>\n",
       "</div>"
      ],
      "text/plain": [
       "  Pantone Colors Count  Total Colors Found White Count Varnish Count  \\\n",
       "0                    0                   5           0             1   \n",
       "1                    1                   2           0             0   \n",
       "2                    2                   3           0             0   \n",
       "3                    0                   5           1             0   \n",
       "4                    0                   5           1             0   \n",
       "\n",
       "  Digital or Other                             Instructions Extracted  \\\n",
       "0                1  :\\n- Approved for prepress\\n- Trap per printer...   \n",
       "1                1  :\\n- Below copy was added in production. Pleas...   \n",
       "2                1  :\\n- Below copy was added in production. Pleas...   \n",
       "3                1  :\\n- Separate per job specs to print Surface D...   \n",
       "4                1  :\\n- Separate per job specs to print Surface D...   \n",
       "\n",
       "  Eligible to Bypass PP  Color Eligible to Bypass Eligible to Bypass Auto Trap  \n",
       "0                     1                         0                            1  \n",
       "1                     1                         1                            1  \n",
       "2                     1                         0                            1  \n",
       "3                     0                         0                            1  \n",
       "4                     0                         0                            1  "
      ]
     },
     "execution_count": 99,
     "metadata": {},
     "output_type": "execute_result"
    }
   ],
   "source": [
    "filtered_df.head()"
   ]
  },
  {
   "cell_type": "code",
   "execution_count": null,
   "id": "2a0ba126-62ad-4435-b29f-04bac227cec5",
   "metadata": {},
   "outputs": [],
   "source": []
  }
 ],
 "metadata": {
  "kernelspec": {
   "display_name": "Python 3 (ipykernel)",
   "language": "python",
   "name": "python3"
  },
  "language_info": {
   "codemirror_mode": {
    "name": "ipython",
    "version": 3
   },
   "file_extension": ".py",
   "mimetype": "text/x-python",
   "name": "python",
   "nbconvert_exporter": "python",
   "pygments_lexer": "ipython3",
   "version": "3.12.4"
  }
 },
 "nbformat": 4,
 "nbformat_minor": 5
}
